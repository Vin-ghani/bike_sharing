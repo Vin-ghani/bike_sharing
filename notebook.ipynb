{
  "cells": [
    {
      "cell_type": "markdown",
      "metadata": {
        "id": "H9wADwK78DCz"
      },
      "source": [
        "# Proyek Analisis Data: [Input Nama Dataset]\n",
        "- **Nama:** Davin Ghani Ananta Kusuma\n",
        "- **Email:** anantadavin4@gmail.com\n",
        "- **ID Dicoding:** davin_ghani"
      ]
    },
    {
      "cell_type": "markdown",
      "metadata": {
        "id": "eE0raob58DC0"
      },
      "source": [
        "## Menentukan Pertanyaan Bisnis"
      ]
    },
    {
      "cell_type": "markdown",
      "metadata": {
        "id": "GmQeQ5YF8DC0"
      },
      "source": [
        "- Bagaimana perbedaan pola penyewaan sepeda antara pengguna casual dan registered?\n",
        "- Bagaimana dampak hari kerja dan libur terhadap jumlah penyewaan sepeda?"
      ]
    },
    {
      "cell_type": "markdown",
      "metadata": {
        "id": "H-z4QGlO8DC1"
      },
      "source": [
        "## Import Semua Packages/Library yang Digunakan"
      ]
    },
    {
      "cell_type": "code",
      "execution_count": 74,
      "metadata": {
        "id": "FVYwaObI8DC1"
      },
      "outputs": [],
      "source": [
        "import numpy as np\n",
        "import pandas as pd\n",
        "import matplotlib.pyplot as plt\n",
        "import seaborn as sns"
      ]
    },
    {
      "cell_type": "markdown",
      "metadata": {
        "id": "h_Sh51Xy8DC1"
      },
      "source": [
        "## Data Wrangling"
      ]
    },
    {
      "cell_type": "markdown",
      "metadata": {
        "id": "sXU2GBYu8DC1"
      },
      "source": [
        "### Gathering Data"
      ]
    },
    {
      "cell_type": "code",
      "execution_count": 75,
      "metadata": {
        "id": "zjCBk1BI8DC1",
        "colab": {
          "base_uri": "https://localhost:8080/",
          "height": 90
        },
        "outputId": "ed51519e-8006-4fc4-f2ed-3d5498f9411b"
      },
      "outputs": [
        {
          "output_type": "display_data",
          "data": {
            "text/plain": [
              "<IPython.core.display.HTML object>"
            ],
            "text/html": [
              "\n",
              "     <input type=\"file\" id=\"files-466fc347-3e22-4332-9182-a347fc869289\" name=\"files[]\" multiple disabled\n",
              "        style=\"border:none\" />\n",
              "     <output id=\"result-466fc347-3e22-4332-9182-a347fc869289\">\n",
              "      Upload widget is only available when the cell has been executed in the\n",
              "      current browser session. Please rerun this cell to enable.\n",
              "      </output>\n",
              "      <script>// Copyright 2017 Google LLC\n",
              "//\n",
              "// Licensed under the Apache License, Version 2.0 (the \"License\");\n",
              "// you may not use this file except in compliance with the License.\n",
              "// You may obtain a copy of the License at\n",
              "//\n",
              "//      http://www.apache.org/licenses/LICENSE-2.0\n",
              "//\n",
              "// Unless required by applicable law or agreed to in writing, software\n",
              "// distributed under the License is distributed on an \"AS IS\" BASIS,\n",
              "// WITHOUT WARRANTIES OR CONDITIONS OF ANY KIND, either express or implied.\n",
              "// See the License for the specific language governing permissions and\n",
              "// limitations under the License.\n",
              "\n",
              "/**\n",
              " * @fileoverview Helpers for google.colab Python module.\n",
              " */\n",
              "(function(scope) {\n",
              "function span(text, styleAttributes = {}) {\n",
              "  const element = document.createElement('span');\n",
              "  element.textContent = text;\n",
              "  for (const key of Object.keys(styleAttributes)) {\n",
              "    element.style[key] = styleAttributes[key];\n",
              "  }\n",
              "  return element;\n",
              "}\n",
              "\n",
              "// Max number of bytes which will be uploaded at a time.\n",
              "const MAX_PAYLOAD_SIZE = 100 * 1024;\n",
              "\n",
              "function _uploadFiles(inputId, outputId) {\n",
              "  const steps = uploadFilesStep(inputId, outputId);\n",
              "  const outputElement = document.getElementById(outputId);\n",
              "  // Cache steps on the outputElement to make it available for the next call\n",
              "  // to uploadFilesContinue from Python.\n",
              "  outputElement.steps = steps;\n",
              "\n",
              "  return _uploadFilesContinue(outputId);\n",
              "}\n",
              "\n",
              "// This is roughly an async generator (not supported in the browser yet),\n",
              "// where there are multiple asynchronous steps and the Python side is going\n",
              "// to poll for completion of each step.\n",
              "// This uses a Promise to block the python side on completion of each step,\n",
              "// then passes the result of the previous step as the input to the next step.\n",
              "function _uploadFilesContinue(outputId) {\n",
              "  const outputElement = document.getElementById(outputId);\n",
              "  const steps = outputElement.steps;\n",
              "\n",
              "  const next = steps.next(outputElement.lastPromiseValue);\n",
              "  return Promise.resolve(next.value.promise).then((value) => {\n",
              "    // Cache the last promise value to make it available to the next\n",
              "    // step of the generator.\n",
              "    outputElement.lastPromiseValue = value;\n",
              "    return next.value.response;\n",
              "  });\n",
              "}\n",
              "\n",
              "/**\n",
              " * Generator function which is called between each async step of the upload\n",
              " * process.\n",
              " * @param {string} inputId Element ID of the input file picker element.\n",
              " * @param {string} outputId Element ID of the output display.\n",
              " * @return {!Iterable<!Object>} Iterable of next steps.\n",
              " */\n",
              "function* uploadFilesStep(inputId, outputId) {\n",
              "  const inputElement = document.getElementById(inputId);\n",
              "  inputElement.disabled = false;\n",
              "\n",
              "  const outputElement = document.getElementById(outputId);\n",
              "  outputElement.innerHTML = '';\n",
              "\n",
              "  const pickedPromise = new Promise((resolve) => {\n",
              "    inputElement.addEventListener('change', (e) => {\n",
              "      resolve(e.target.files);\n",
              "    });\n",
              "  });\n",
              "\n",
              "  const cancel = document.createElement('button');\n",
              "  inputElement.parentElement.appendChild(cancel);\n",
              "  cancel.textContent = 'Cancel upload';\n",
              "  const cancelPromise = new Promise((resolve) => {\n",
              "    cancel.onclick = () => {\n",
              "      resolve(null);\n",
              "    };\n",
              "  });\n",
              "\n",
              "  // Wait for the user to pick the files.\n",
              "  const files = yield {\n",
              "    promise: Promise.race([pickedPromise, cancelPromise]),\n",
              "    response: {\n",
              "      action: 'starting',\n",
              "    }\n",
              "  };\n",
              "\n",
              "  cancel.remove();\n",
              "\n",
              "  // Disable the input element since further picks are not allowed.\n",
              "  inputElement.disabled = true;\n",
              "\n",
              "  if (!files) {\n",
              "    return {\n",
              "      response: {\n",
              "        action: 'complete',\n",
              "      }\n",
              "    };\n",
              "  }\n",
              "\n",
              "  for (const file of files) {\n",
              "    const li = document.createElement('li');\n",
              "    li.append(span(file.name, {fontWeight: 'bold'}));\n",
              "    li.append(span(\n",
              "        `(${file.type || 'n/a'}) - ${file.size} bytes, ` +\n",
              "        `last modified: ${\n",
              "            file.lastModifiedDate ? file.lastModifiedDate.toLocaleDateString() :\n",
              "                                    'n/a'} - `));\n",
              "    const percent = span('0% done');\n",
              "    li.appendChild(percent);\n",
              "\n",
              "    outputElement.appendChild(li);\n",
              "\n",
              "    const fileDataPromise = new Promise((resolve) => {\n",
              "      const reader = new FileReader();\n",
              "      reader.onload = (e) => {\n",
              "        resolve(e.target.result);\n",
              "      };\n",
              "      reader.readAsArrayBuffer(file);\n",
              "    });\n",
              "    // Wait for the data to be ready.\n",
              "    let fileData = yield {\n",
              "      promise: fileDataPromise,\n",
              "      response: {\n",
              "        action: 'continue',\n",
              "      }\n",
              "    };\n",
              "\n",
              "    // Use a chunked sending to avoid message size limits. See b/62115660.\n",
              "    let position = 0;\n",
              "    do {\n",
              "      const length = Math.min(fileData.byteLength - position, MAX_PAYLOAD_SIZE);\n",
              "      const chunk = new Uint8Array(fileData, position, length);\n",
              "      position += length;\n",
              "\n",
              "      const base64 = btoa(String.fromCharCode.apply(null, chunk));\n",
              "      yield {\n",
              "        response: {\n",
              "          action: 'append',\n",
              "          file: file.name,\n",
              "          data: base64,\n",
              "        },\n",
              "      };\n",
              "\n",
              "      let percentDone = fileData.byteLength === 0 ?\n",
              "          100 :\n",
              "          Math.round((position / fileData.byteLength) * 100);\n",
              "      percent.textContent = `${percentDone}% done`;\n",
              "\n",
              "    } while (position < fileData.byteLength);\n",
              "  }\n",
              "\n",
              "  // All done.\n",
              "  yield {\n",
              "    response: {\n",
              "      action: 'complete',\n",
              "    }\n",
              "  };\n",
              "}\n",
              "\n",
              "scope.google = scope.google || {};\n",
              "scope.google.colab = scope.google.colab || {};\n",
              "scope.google.colab._files = {\n",
              "  _uploadFiles,\n",
              "  _uploadFilesContinue,\n",
              "};\n",
              "})(self);\n",
              "</script> "
            ]
          },
          "metadata": {}
        },
        {
          "output_type": "stream",
          "name": "stdout",
          "text": [
            "Saving kaggle.json to kaggle (1).json\n"
          ]
        },
        {
          "output_type": "execute_result",
          "data": {
            "text/plain": [
              "{'kaggle (1).json': b'{\"username\":\"davinghani\",\"key\":\"605f21ba601be3b61417fd1bebcc714c\"}'}"
            ]
          },
          "metadata": {},
          "execution_count": 75
        }
      ],
      "source": [
        "from google.colab import files\n",
        "files.upload()"
      ]
    },
    {
      "cell_type": "code",
      "source": [
        "import os\n",
        "import zipfile\n",
        "\n",
        "!mkdir -p ~/.kaggle\n",
        "!cp kaggle.json ~/.kaggle/\n",
        "\n",
        "!chmod 600 ~/.kaggle/kaggle.json"
      ],
      "metadata": {
        "id": "dPXl7mhGuAid"
      },
      "execution_count": 76,
      "outputs": []
    },
    {
      "cell_type": "code",
      "source": [
        "!kaggle datasets download -d lakshmi25npathi/bike-sharing-dataset"
      ],
      "metadata": {
        "colab": {
          "base_uri": "https://localhost:8080/"
        },
        "id": "u6WTNTXbuDlp",
        "outputId": "b73a3c34-448d-456d-c30b-421cea7cb1f4"
      },
      "execution_count": 77,
      "outputs": [
        {
          "output_type": "stream",
          "name": "stdout",
          "text": [
            "Dataset URL: https://www.kaggle.com/datasets/lakshmi25npathi/bike-sharing-dataset\n",
            "License(s): unknown\n",
            "bike-sharing-dataset.zip: Skipping, found more recently modified local copy (use --force to force download)\n"
          ]
        }
      ]
    },
    {
      "cell_type": "code",
      "source": [
        "!unzip bike-sharing-dataset.zip"
      ],
      "metadata": {
        "colab": {
          "base_uri": "https://localhost:8080/"
        },
        "id": "TPH41ybJuHPt",
        "outputId": "38b01332-4e8b-471b-ae45-e60f37e664b9"
      },
      "execution_count": 78,
      "outputs": [
        {
          "output_type": "stream",
          "name": "stdout",
          "text": [
            "Archive:  bike-sharing-dataset.zip\n",
            "replace Readme.txt? [y]es, [n]o, [A]ll, [N]one, [r]ename: n\n",
            "replace day.csv? [y]es, [n]o, [A]ll, [N]one, [r]ename: n\n",
            "replace hour.csv? [y]es, [n]o, [A]ll, [N]one, [r]ename: n\n"
          ]
        }
      ]
    },
    {
      "cell_type": "code",
      "source": [
        "day_df = pd.read_csv(\"day.csv\")\n",
        "hour_df = pd.read_csv(\"hour.csv\")\n",
        "\n",
        "# check beberapa baris pertama\n",
        "print(day_df.head())\n",
        "print(hour_df.head())"
      ],
      "metadata": {
        "colab": {
          "base_uri": "https://localhost:8080/"
        },
        "id": "iVxlevQ4uTSl",
        "outputId": "236c7eb4-a9cc-4cd1-cedb-09aee333525b"
      },
      "execution_count": 79,
      "outputs": [
        {
          "output_type": "stream",
          "name": "stdout",
          "text": [
            "   instant      dteday  season  yr  mnth  holiday  weekday  workingday  \\\n",
            "0        1  2011-01-01       1   0     1        0        6           0   \n",
            "1        2  2011-01-02       1   0     1        0        0           0   \n",
            "2        3  2011-01-03       1   0     1        0        1           1   \n",
            "3        4  2011-01-04       1   0     1        0        2           1   \n",
            "4        5  2011-01-05       1   0     1        0        3           1   \n",
            "\n",
            "   weathersit      temp     atemp       hum  windspeed  casual  registered  \\\n",
            "0           2  0.344167  0.363625  0.805833   0.160446     331         654   \n",
            "1           2  0.363478  0.353739  0.696087   0.248539     131         670   \n",
            "2           1  0.196364  0.189405  0.437273   0.248309     120        1229   \n",
            "3           1  0.200000  0.212122  0.590435   0.160296     108        1454   \n",
            "4           1  0.226957  0.229270  0.436957   0.186900      82        1518   \n",
            "\n",
            "    cnt  \n",
            "0   985  \n",
            "1   801  \n",
            "2  1349  \n",
            "3  1562  \n",
            "4  1600  \n",
            "   instant      dteday  season  yr  mnth  hr  holiday  weekday  workingday  \\\n",
            "0        1  2011-01-01       1   0     1   0        0        6           0   \n",
            "1        2  2011-01-01       1   0     1   1        0        6           0   \n",
            "2        3  2011-01-01       1   0     1   2        0        6           0   \n",
            "3        4  2011-01-01       1   0     1   3        0        6           0   \n",
            "4        5  2011-01-01       1   0     1   4        0        6           0   \n",
            "\n",
            "   weathersit  temp   atemp   hum  windspeed  casual  registered  cnt  \n",
            "0           1  0.24  0.2879  0.81        0.0       3          13   16  \n",
            "1           1  0.22  0.2727  0.80        0.0       8          32   40  \n",
            "2           1  0.22  0.2727  0.80        0.0       5          27   32  \n",
            "3           1  0.24  0.2879  0.75        0.0       3          10   13  \n",
            "4           1  0.24  0.2879  0.75        0.0       0           1    1  \n"
          ]
        }
      ]
    },
    {
      "cell_type": "markdown",
      "source": [
        "**Insight:**\n",
        "- day.csv = Data penyewaan per hari\n",
        "- hour.csv = Data penyewaan per jam"
      ],
      "metadata": {
        "id": "MMi6xGaDkbCi"
      }
    },
    {
      "cell_type": "markdown",
      "metadata": {
        "id": "FHSiqaZp8DC1"
      },
      "source": [
        "### Assessing Data"
      ]
    },
    {
      "cell_type": "code",
      "source": [
        "# Mengecek jumlah baris & kolom\n",
        "print(\"Shape of day_df:\", day_df.shape)\n",
        "print(\"Shape of hour_df:\", hour_df.shape)"
      ],
      "metadata": {
        "id": "ax-3tEjc9Cj1",
        "colab": {
          "base_uri": "https://localhost:8080/"
        },
        "outputId": "64beec8a-0d2c-4bf0-a511-1f8bc0db16f8"
      },
      "execution_count": 80,
      "outputs": [
        {
          "output_type": "stream",
          "name": "stdout",
          "text": [
            "Shape of day_df: (731, 16)\n",
            "Shape of hour_df: (17379, 17)\n"
          ]
        }
      ]
    },
    {
      "cell_type": "code",
      "source": [
        "# Mengecek tipe data\n",
        "print(\"Info Dataset Harian:\")\n",
        "print(day_df.info())"
      ],
      "metadata": {
        "colab": {
          "base_uri": "https://localhost:8080/"
        },
        "id": "m26I6gavvDXY",
        "outputId": "955a092a-6167-4ef6-8ebe-945e4ab63a99"
      },
      "execution_count": 81,
      "outputs": [
        {
          "output_type": "stream",
          "name": "stdout",
          "text": [
            "Info Dataset Harian:\n",
            "<class 'pandas.core.frame.DataFrame'>\n",
            "RangeIndex: 731 entries, 0 to 730\n",
            "Data columns (total 16 columns):\n",
            " #   Column      Non-Null Count  Dtype  \n",
            "---  ------      --------------  -----  \n",
            " 0   instant     731 non-null    int64  \n",
            " 1   dteday      731 non-null    object \n",
            " 2   season      731 non-null    int64  \n",
            " 3   yr          731 non-null    int64  \n",
            " 4   mnth        731 non-null    int64  \n",
            " 5   holiday     731 non-null    int64  \n",
            " 6   weekday     731 non-null    int64  \n",
            " 7   workingday  731 non-null    int64  \n",
            " 8   weathersit  731 non-null    int64  \n",
            " 9   temp        731 non-null    float64\n",
            " 10  atemp       731 non-null    float64\n",
            " 11  hum         731 non-null    float64\n",
            " 12  windspeed   731 non-null    float64\n",
            " 13  casual      731 non-null    int64  \n",
            " 14  registered  731 non-null    int64  \n",
            " 15  cnt         731 non-null    int64  \n",
            "dtypes: float64(4), int64(11), object(1)\n",
            "memory usage: 91.5+ KB\n",
            "None\n"
          ]
        }
      ]
    },
    {
      "cell_type": "code",
      "source": [
        "#Mengecek tipe data\n",
        "print(\"Info Dataset Per Jam:\")\n",
        "print(hour_df.info())"
      ],
      "metadata": {
        "colab": {
          "base_uri": "https://localhost:8080/"
        },
        "id": "HRVo-jR5vH_T",
        "outputId": "1656041d-fb70-461d-e785-0f73267b6167"
      },
      "execution_count": 82,
      "outputs": [
        {
          "output_type": "stream",
          "name": "stdout",
          "text": [
            "Info Dataset Per Jam:\n",
            "<class 'pandas.core.frame.DataFrame'>\n",
            "RangeIndex: 17379 entries, 0 to 17378\n",
            "Data columns (total 17 columns):\n",
            " #   Column      Non-Null Count  Dtype  \n",
            "---  ------      --------------  -----  \n",
            " 0   instant     17379 non-null  int64  \n",
            " 1   dteday      17379 non-null  object \n",
            " 2   season      17379 non-null  int64  \n",
            " 3   yr          17379 non-null  int64  \n",
            " 4   mnth        17379 non-null  int64  \n",
            " 5   hr          17379 non-null  int64  \n",
            " 6   holiday     17379 non-null  int64  \n",
            " 7   weekday     17379 non-null  int64  \n",
            " 8   workingday  17379 non-null  int64  \n",
            " 9   weathersit  17379 non-null  int64  \n",
            " 10  temp        17379 non-null  float64\n",
            " 11  atemp       17379 non-null  float64\n",
            " 12  hum         17379 non-null  float64\n",
            " 13  windspeed   17379 non-null  float64\n",
            " 14  casual      17379 non-null  int64  \n",
            " 15  registered  17379 non-null  int64  \n",
            " 16  cnt         17379 non-null  int64  \n",
            "dtypes: float64(4), int64(12), object(1)\n",
            "memory usage: 2.3+ MB\n",
            "None\n"
          ]
        }
      ]
    },
    {
      "cell_type": "code",
      "source": [
        "#Melihat pola data\n",
        "print(\"Preview day_df:\")\n",
        "print(day_df.head())"
      ],
      "metadata": {
        "colab": {
          "base_uri": "https://localhost:8080/"
        },
        "id": "QXFa1RyLvOGW",
        "outputId": "11f4b421-6970-4d4e-c111-5e2ab5e7328a"
      },
      "execution_count": 83,
      "outputs": [
        {
          "output_type": "stream",
          "name": "stdout",
          "text": [
            "Preview day_df:\n",
            "   instant      dteday  season  yr  mnth  holiday  weekday  workingday  \\\n",
            "0        1  2011-01-01       1   0     1        0        6           0   \n",
            "1        2  2011-01-02       1   0     1        0        0           0   \n",
            "2        3  2011-01-03       1   0     1        0        1           1   \n",
            "3        4  2011-01-04       1   0     1        0        2           1   \n",
            "4        5  2011-01-05       1   0     1        0        3           1   \n",
            "\n",
            "   weathersit      temp     atemp       hum  windspeed  casual  registered  \\\n",
            "0           2  0.344167  0.363625  0.805833   0.160446     331         654   \n",
            "1           2  0.363478  0.353739  0.696087   0.248539     131         670   \n",
            "2           1  0.196364  0.189405  0.437273   0.248309     120        1229   \n",
            "3           1  0.200000  0.212122  0.590435   0.160296     108        1454   \n",
            "4           1  0.226957  0.229270  0.436957   0.186900      82        1518   \n",
            "\n",
            "    cnt  \n",
            "0   985  \n",
            "1   801  \n",
            "2  1349  \n",
            "3  1562  \n",
            "4  1600  \n"
          ]
        }
      ]
    },
    {
      "cell_type": "code",
      "source": [
        "print(\"Preview hour_df:\")\n",
        "print(hour_df.head())"
      ],
      "metadata": {
        "colab": {
          "base_uri": "https://localhost:8080/"
        },
        "id": "UFgOdBzavXTh",
        "outputId": "f0678773-3468-467e-d290-7cb76f2e00c3"
      },
      "execution_count": 84,
      "outputs": [
        {
          "output_type": "stream",
          "name": "stdout",
          "text": [
            "Preview hour_df:\n",
            "   instant      dteday  season  yr  mnth  hr  holiday  weekday  workingday  \\\n",
            "0        1  2011-01-01       1   0     1   0        0        6           0   \n",
            "1        2  2011-01-01       1   0     1   1        0        6           0   \n",
            "2        3  2011-01-01       1   0     1   2        0        6           0   \n",
            "3        4  2011-01-01       1   0     1   3        0        6           0   \n",
            "4        5  2011-01-01       1   0     1   4        0        6           0   \n",
            "\n",
            "   weathersit  temp   atemp   hum  windspeed  casual  registered  cnt  \n",
            "0           1  0.24  0.2879  0.81        0.0       3          13   16  \n",
            "1           1  0.22  0.2727  0.80        0.0       8          32   40  \n",
            "2           1  0.22  0.2727  0.80        0.0       5          27   32  \n",
            "3           1  0.24  0.2879  0.75        0.0       3          10   13  \n",
            "4           1  0.24  0.2879  0.75        0.0       0           1    1  \n"
          ]
        }
      ]
    },
    {
      "cell_type": "code",
      "source": [
        "# Mengecek missing values di data harian\n",
        "print(\"Missing values in day_df:\")\n",
        "print(day_df.isnull().sum())"
      ],
      "metadata": {
        "colab": {
          "base_uri": "https://localhost:8080/"
        },
        "id": "Lbk-hin0vetR",
        "outputId": "a067c9c7-9121-4988-e644-fbd6de0b9100"
      },
      "execution_count": 85,
      "outputs": [
        {
          "output_type": "stream",
          "name": "stdout",
          "text": [
            "Missing values in day_df:\n",
            "instant       0\n",
            "dteday        0\n",
            "season        0\n",
            "yr            0\n",
            "mnth          0\n",
            "holiday       0\n",
            "weekday       0\n",
            "workingday    0\n",
            "weathersit    0\n",
            "temp          0\n",
            "atemp         0\n",
            "hum           0\n",
            "windspeed     0\n",
            "casual        0\n",
            "registered    0\n",
            "cnt           0\n",
            "dtype: int64\n"
          ]
        }
      ]
    },
    {
      "cell_type": "code",
      "source": [
        "# Mengecek missing values di data per jam\n",
        "print(\"Missing values in hour_df:\")\n",
        "print(hour_df.isnull().sum())"
      ],
      "metadata": {
        "colab": {
          "base_uri": "https://localhost:8080/"
        },
        "id": "uDSnRIWHvm4E",
        "outputId": "b0f9bc03-3786-4bb7-8577-12aea9750ac5"
      },
      "execution_count": 86,
      "outputs": [
        {
          "output_type": "stream",
          "name": "stdout",
          "text": [
            "Missing values in hour_df:\n",
            "instant       0\n",
            "dteday        0\n",
            "season        0\n",
            "yr            0\n",
            "mnth          0\n",
            "hr            0\n",
            "holiday       0\n",
            "weekday       0\n",
            "workingday    0\n",
            "weathersit    0\n",
            "temp          0\n",
            "atemp         0\n",
            "hum           0\n",
            "windspeed     0\n",
            "casual        0\n",
            "registered    0\n",
            "cnt           0\n",
            "dtype: int64\n"
          ]
        }
      ]
    },
    {
      "cell_type": "code",
      "source": [
        "# Cek jumlah duplikasi di data harian\n",
        "print(\"Jumlah duplikasi di day_df:\", day_df.duplicated().sum())"
      ],
      "metadata": {
        "colab": {
          "base_uri": "https://localhost:8080/"
        },
        "id": "vP6zCNLzvrou",
        "outputId": "4a8fc748-8940-4bfd-c366-747198bfb832"
      },
      "execution_count": 87,
      "outputs": [
        {
          "output_type": "stream",
          "name": "stdout",
          "text": [
            "Jumlah duplikasi di day_df: 0\n"
          ]
        }
      ]
    },
    {
      "cell_type": "code",
      "source": [
        "# Cek jumlah duplikasi di data per jam\n",
        "print(\"Jumlah duplikasi di hour_df:\", hour_df.duplicated().sum())"
      ],
      "metadata": {
        "colab": {
          "base_uri": "https://localhost:8080/"
        },
        "id": "hs5uYqZ5v1aC",
        "outputId": "27d20998-db06-4d31-90ee-48d2b94c5b34"
      },
      "execution_count": 88,
      "outputs": [
        {
          "output_type": "stream",
          "name": "stdout",
          "text": [
            "Jumlah duplikasi di hour_df: 0\n"
          ]
        }
      ]
    },
    {
      "cell_type": "markdown",
      "source": [
        "**Insight:**\n",
        "- Data bersih secara struktur, tidak ada missing values & duplikasi\n",
        "- Beberapa kolom sudah dikonversi ke format yang benar"
      ],
      "metadata": {
        "id": "7dtxhAPrkhPL"
      }
    },
    {
      "cell_type": "markdown",
      "metadata": {
        "id": "EhN5R4hr8DC1"
      },
      "source": [
        "### Cleaning Data"
      ]
    },
    {
      "cell_type": "markdown",
      "source": [
        "Menghapus Kolom yang Tidak Relevan"
      ],
      "metadata": {
        "id": "WQVtTN0T0rS6"
      }
    },
    {
      "cell_type": "code",
      "source": [
        "#* Hapus kolom yang tidak diperlukan\n",
        "day_df.drop(columns=['instant', 'atemp'], inplace=True)\n",
        "hour_df.drop(columns=['instant', 'atemp'], inplace=True)"
      ],
      "metadata": {
        "id": "K4X810SMxc3-"
      },
      "execution_count": 89,
      "outputs": []
    },
    {
      "cell_type": "code",
      "source": [
        "# Cek kolom sudah terhapus\n",
        "print(day_df.columns)\n",
        "print(hour_df.columns)"
      ],
      "metadata": {
        "colab": {
          "base_uri": "https://localhost:8080/"
        },
        "id": "25kjl-L5zPoP",
        "outputId": "66829704-318e-4a0b-938c-e9cf3cc3584c"
      },
      "execution_count": 90,
      "outputs": [
        {
          "output_type": "stream",
          "name": "stdout",
          "text": [
            "Index(['dteday', 'season', 'yr', 'mnth', 'holiday', 'weekday', 'workingday',\n",
            "       'weathersit', 'temp', 'hum', 'windspeed', 'casual', 'registered',\n",
            "       'cnt'],\n",
            "      dtype='object')\n",
            "Index(['dteday', 'season', 'yr', 'mnth', 'hr', 'holiday', 'weekday',\n",
            "       'workingday', 'weathersit', 'temp', 'hum', 'windspeed', 'casual',\n",
            "       'registered', 'cnt'],\n",
            "      dtype='object')\n"
          ]
        }
      ]
    },
    {
      "cell_type": "markdown",
      "source": [
        "Menyesuaikan Kategori pada Kolom yang Berbentuk Angka"
      ],
      "metadata": {
        "id": "LfMIjkVt01_b"
      }
    },
    {
      "cell_type": "code",
      "source": [
        "# Mapping label kategori\n",
        "season_mapping = {1: \"Spring\", 2: \"Summer\", 3: \"Fall\", 4: \"Winter\"}\n",
        "weather_mapping = {1: \"Clear\", 2: \"Cloudy\", 3: \"Light Rain/Snow\", 4: \"Heavy Rain/Snow\"}"
      ],
      "metadata": {
        "id": "RqY-y8kd0LrF"
      },
      "execution_count": 91,
      "outputs": []
    },
    {
      "cell_type": "code",
      "source": [
        "# Mengubah angka menjadi kategori\n",
        "day_df[\"season\"] = day_df[\"season\"].map(season_mapping)\n",
        "hour_df[\"season\"] = hour_df[\"season\"].map(season_mapping)\n",
        "\n",
        "day_df[\"weathersit\"] = day_df[\"weathersit\"].map(weather_mapping)\n",
        "hour_df[\"weathersit\"] = hour_df[\"weathersit\"].map(weather_mapping)"
      ],
      "metadata": {
        "id": "GiU_Ll3Z0M1Q"
      },
      "execution_count": 92,
      "outputs": []
    },
    {
      "cell_type": "code",
      "source": [
        "# Cek perubahan\n",
        "print(day_df[['season', 'weathersit']].head())\n",
        "print(hour_df[['season', 'weathersit']].head())"
      ],
      "metadata": {
        "colab": {
          "base_uri": "https://localhost:8080/"
        },
        "id": "29pBbG4s0Sh7",
        "outputId": "138593ce-ff66-47bc-cd2e-5ab2b3f514ec"
      },
      "execution_count": 93,
      "outputs": [
        {
          "output_type": "stream",
          "name": "stdout",
          "text": [
            "   season weathersit\n",
            "0  Spring     Cloudy\n",
            "1  Spring     Cloudy\n",
            "2  Spring      Clear\n",
            "3  Spring      Clear\n",
            "4  Spring      Clear\n",
            "   season weathersit\n",
            "0  Spring      Clear\n",
            "1  Spring      Clear\n",
            "2  Spring      Clear\n",
            "3  Spring      Clear\n",
            "4  Spring      Clear\n"
          ]
        }
      ]
    },
    {
      "cell_type": "markdown",
      "source": [
        "Normalisasi Data"
      ],
      "metadata": {
        "id": "Pvz8K-M703c-"
      }
    },
    {
      "cell_type": "code",
      "source": [
        "# Konversi kelembaban & kecepatan angin ke persen\n",
        "day_df[\"hum\"] = day_df[\"hum\"] * 100\n",
        "hour_df[\"hum\"] = hour_df[\"hum\"] * 100"
      ],
      "metadata": {
        "id": "jTv8X0kr0WxM"
      },
      "execution_count": 94,
      "outputs": []
    },
    {
      "cell_type": "code",
      "source": [
        "# Maksimum windspeed = 67 km/h\n",
        "day_df[\"windspeed\"] = day_df[\"windspeed\"] * 67\n",
        "hour_df[\"windspeed\"] = hour_df[\"windspeed\"] * 67"
      ],
      "metadata": {
        "id": "p9HjYP6n1VRd"
      },
      "execution_count": 95,
      "outputs": []
    },
    {
      "cell_type": "code",
      "source": [
        "# Cek hasil konversi\n",
        "print(day_df[['hum', 'windspeed']].head())\n",
        "print(hour_df[['hum', 'windspeed']].head())"
      ],
      "metadata": {
        "colab": {
          "base_uri": "https://localhost:8080/"
        },
        "id": "fNHh6nT61Zxp",
        "outputId": "9a9beb8a-d808-4145-f3cf-5fb6f209467f"
      },
      "execution_count": 96,
      "outputs": [
        {
          "output_type": "stream",
          "name": "stdout",
          "text": [
            "       hum  windspeed\n",
            "0  80.5833  10.749882\n",
            "1  69.6087  16.652113\n",
            "2  43.7273  16.636703\n",
            "3  59.0435  10.739832\n",
            "4  43.6957  12.522300\n",
            "    hum  windspeed\n",
            "0  81.0        0.0\n",
            "1  80.0        0.0\n",
            "2  80.0        0.0\n",
            "3  75.0        0.0\n",
            "4  75.0        0.0\n"
          ]
        }
      ]
    },
    {
      "cell_type": "markdown",
      "source": [
        "Cek Oulier"
      ],
      "metadata": {
        "id": "PCrrd6ZG2fez"
      }
    },
    {
      "cell_type": "code",
      "source": [
        "plt.figure(figsize=(12, 5))\n",
        "sns.boxplot(data=day_df[['casual', 'registered', 'cnt']], palette=\"coolwarm\")\n",
        "plt.title(\"Pengecekan Outlier pada Data Penyewaan\")\n",
        "plt.show()"
      ],
      "metadata": {
        "colab": {
          "base_uri": "https://localhost:8080/",
          "height": 0
        },
        "id": "yfdXVkFr2hml",
        "outputId": "d39d759a-a18c-4085-d1a9-d7bb917e8bce"
      },
      "execution_count": 97,
      "outputs": [
        {
          "output_type": "display_data",
          "data": {
            "text/plain": [
              "<Figure size 1200x500 with 1 Axes>"
            ],
            "image/png": "[encoded data removed]"
          },
          "metadata": {}
        }
      ]
    },
    {
      "cell_type": "code",
      "source": [
        "# Menghitung IQR untuk 'casual'\n",
        "Q1 = day_df['casual'].quantile(0.25)\n",
        "Q3 = day_df['casual'].quantile(0.75)\n",
        "IQR = Q3 - Q1\n",
        "\n",
        "lower_bound = Q1 - 1.5 * IQR\n",
        "upper_bound = Q3 + 1.5 * IQR\n",
        "\n",
        "# Menampilkan batasan outlier\n",
        "print(f\"Batas bawah: {lower_bound}, Batas atas: {upper_bound}\")\n",
        "\n",
        "# Menampilkan jumlah outlier\n",
        "outliers = day_df[(day_df['casual'] < lower_bound) | (day_df['casual'] > upper_bound)]\n",
        "print(f\"Jumlah outlier: {outliers.shape[0]}\")"
      ],
      "metadata": {
        "colab": {
          "base_uri": "https://localhost:8080/"
        },
        "id": "6GFQVCLO24wN",
        "outputId": "8fcd247a-5be9-45e4-ef34-5e1df325b748"
      },
      "execution_count": 98,
      "outputs": [
        {
          "output_type": "stream",
          "name": "stdout",
          "text": [
            "Batas bawah: -855.25, Batas atas: 2266.75\n",
            "Jumlah outlier: 44\n"
          ]
        }
      ]
    },
    {
      "cell_type": "code",
      "source": [
        "# Menghapus outlier di atas batas atas\n",
        "day_df = day_df[day_df['casual'] <= upper_bound]"
      ],
      "metadata": {
        "id": "CIcUp8zI4F0s"
      },
      "execution_count": 99,
      "outputs": []
    },
    {
      "cell_type": "code",
      "source": [
        "# Cek jumlah data setelah menghapus outlier\n",
        "print(f\"Jumlah data setelah menghapus outlier: {day_df.shape[0]}\")"
      ],
      "metadata": {
        "colab": {
          "base_uri": "https://localhost:8080/"
        },
        "id": "vXsWCLVp4hl1",
        "outputId": "5de7c959-e116-46b2-8243-e482fc6b499a"
      },
      "execution_count": 100,
      "outputs": [
        {
          "output_type": "stream",
          "name": "stdout",
          "text": [
            "Jumlah data setelah menghapus outlier: 687\n"
          ]
        }
      ]
    },
    {
      "cell_type": "code",
      "source": [
        "# Cek kembali boxplot setelah penghapusan outlier\n",
        "plt.figure(figsize=(12, 5))\n",
        "sns.boxplot(data=day_df[['casual', 'registered', 'cnt']], palette=\"coolwarm\")\n",
        "plt.title(\"Boxplot Setelah Menghapus Outlier\")\n",
        "plt.show()"
      ],
      "metadata": {
        "colab": {
          "base_uri": "https://localhost:8080/",
          "height": 0
        },
        "id": "-TCbDJlR4kTN",
        "outputId": "6ccc06cd-de2e-44b8-a9b7-ff40c4c3dfcb"
      },
      "execution_count": 101,
      "outputs": [
        {
          "output_type": "display_data",
          "data": {
            "text/plain": [
              "<Figure size 1200x500 with 1 Axes>"
            ],
            "image/png": "[encoded data removed]"
          },
          "metadata": {}
        }
      ]
    },
    {
      "cell_type": "markdown",
      "source": [
        "**Insight:**\n",
        "- Menghapus Kolom yang Tidak Relevan\n",
        "- Normalisasi Data dan Menangani Outlier"
      ],
      "metadata": {
        "id": "Q_5ejIqckiSP"
      }
    },
    {
      "cell_type": "markdown",
      "metadata": {
        "id": "gp-Y6wU38DC1"
      },
      "source": [
        "## Exploratory Data Analysis (EDA)"
      ]
    },
    {
      "cell_type": "markdown",
      "source": [
        "#### Preview dataset"
      ],
      "metadata": {
        "id": "Qp3m-mCbtpvj"
      }
    },
    {
      "cell_type": "code",
      "source": [
        "print(\"Preview of day_df (Data per Day):\")\n",
        "print(day_df.head())"
      ],
      "metadata": {
        "colab": {
          "base_uri": "https://localhost:8080/"
        },
        "id": "nm481JuDtNNR",
        "outputId": "c8dd7720-37a2-4650-fdeb-38c3d182dadd"
      },
      "execution_count": 102,
      "outputs": [
        {
          "output_type": "stream",
          "name": "stdout",
          "text": [
            "Preview of day_df (Data per Day):\n",
            "       dteday  season  yr  mnth  holiday  weekday  workingday weathersit  \\\n",
            "0  2011-01-01  Spring   0     1        0        6           0     Cloudy   \n",
            "1  2011-01-02  Spring   0     1        0        0           0     Cloudy   \n",
            "2  2011-01-03  Spring   0     1        0        1           1      Clear   \n",
            "3  2011-01-04  Spring   0     1        0        2           1      Clear   \n",
            "4  2011-01-05  Spring   0     1        0        3           1      Clear   \n",
            "\n",
            "       temp      hum  windspeed  casual  registered   cnt  \n",
            "0  0.344167  80.5833  10.749882     331         654   985  \n",
            "1  0.363478  69.6087  16.652113     131         670   801  \n",
            "2  0.196364  43.7273  16.636703     120        1229  1349  \n",
            "3  0.200000  59.0435  10.739832     108        1454  1562  \n",
            "4  0.226957  43.6957  12.522300      82        1518  1600  \n"
          ]
        }
      ]
    },
    {
      "cell_type": "code",
      "source": [
        "print(\"Preview of hour_df (Data per Hour):\")\n",
        "print(hour_df.head())"
      ],
      "metadata": {
        "colab": {
          "base_uri": "https://localhost:8080/"
        },
        "id": "w90KN3nBtkMe",
        "outputId": "9b2dbbb3-6e9e-4eda-fe7f-3fc43620f78e"
      },
      "execution_count": 103,
      "outputs": [
        {
          "output_type": "stream",
          "name": "stdout",
          "text": [
            "Preview of hour_df (Data per Hour):\n",
            "       dteday  season  yr  mnth  hr  holiday  weekday  workingday weathersit  \\\n",
            "0  2011-01-01  Spring   0     1   0        0        6           0      Clear   \n",
            "1  2011-01-01  Spring   0     1   1        0        6           0      Clear   \n",
            "2  2011-01-01  Spring   0     1   2        0        6           0      Clear   \n",
            "3  2011-01-01  Spring   0     1   3        0        6           0      Clear   \n",
            "4  2011-01-01  Spring   0     1   4        0        6           0      Clear   \n",
            "\n",
            "   temp   hum  windspeed  casual  registered  cnt  \n",
            "0  0.24  81.0        0.0       3          13   16  \n",
            "1  0.22  80.0        0.0       8          32   40  \n",
            "2  0.22  80.0        0.0       5          27   32  \n",
            "3  0.24  75.0        0.0       3          10   13  \n",
            "4  0.24  75.0        0.0       0           1    1  \n"
          ]
        }
      ]
    },
    {
      "cell_type": "markdown",
      "source": [
        "#### Descriptive Statistics dan Korelasi"
      ],
      "metadata": {
        "id": "FyDmJkmC2Yoh"
      }
    },
    {
      "cell_type": "code",
      "source": [
        "print(\"Descriptive Statistics untuk variabel 'cnt', 'casual', 'registered', 'temp', 'hum':\")\n",
        "print(day_df[['cnt', 'casual', 'registered', 'temp', 'hum']].describe())"
      ],
      "metadata": {
        "colab": {
          "base_uri": "https://localhost:8080/"
        },
        "id": "nyY3A7n_2d53",
        "outputId": "2ab88281-4523-4512-8867-b17922b6825f"
      },
      "execution_count": 104,
      "outputs": [
        {
          "output_type": "stream",
          "name": "stdout",
          "text": [
            "Descriptive Statistics untuk variabel 'cnt', 'casual', 'registered', 'temp', 'hum':\n",
            "               cnt       casual   registered        temp         hum\n",
            "count   687.000000   687.000000   687.000000  687.000000  687.000000\n",
            "mean   4340.767103   732.010189  3608.756914    0.487475   62.891699\n",
            "std    1866.258997   521.433756  1580.356697    0.184392   14.385371\n",
            "min      22.000000     2.000000    20.000000    0.059130    0.000000\n",
            "25%    3002.000000   295.000000  2452.500000    0.327917   52.000000\n",
            "50%    4381.000000   674.000000  3603.000000    0.475833   62.666700\n",
            "75%    5583.500000  1026.500000  4686.000000    0.650416   73.333350\n",
            "max    8173.000000  2258.000000  6946.000000    0.861667   97.250000\n"
          ]
        }
      ]
    },
    {
      "cell_type": "code",
      "source": [
        "print(\"Korelasi antar variabel:\")\n",
        "correlation = day_df[['cnt', 'casual', 'registered', 'temp', 'hum', 'windspeed']].corr()\n",
        "print(correlation)"
      ],
      "metadata": {
        "colab": {
          "base_uri": "https://localhost:8080/"
        },
        "id": "ko6vg7bg2gfZ",
        "outputId": "48a2ac16-85cd-4992-c2b4-88a6fed6a908"
      },
      "execution_count": 105,
      "outputs": [
        {
          "output_type": "stream",
          "name": "stdout",
          "text": [
            "Korelasi antar variabel:\n",
            "                 cnt    casual  registered      temp       hum  windspeed\n",
            "cnt         1.000000  0.646002    0.967764  0.630086 -0.086684  -0.246210\n",
            "casual      0.646002  1.000000    0.432923  0.598537 -0.069769  -0.201762\n",
            "registered  0.967764  0.432923    1.000000  0.546590 -0.079346  -0.224182\n",
            "temp        0.630086  0.598537    0.546590  1.000000  0.134474  -0.155860\n",
            "hum        -0.086684 -0.069769   -0.079346  0.134474  1.000000  -0.252595\n",
            "windspeed  -0.246210 -0.201762   -0.224182 -0.155860 -0.252595   1.000000\n"
          ]
        }
      ]
    },
    {
      "cell_type": "markdown",
      "source": [
        "#### Agregasi Data"
      ],
      "metadata": {
        "id": "89CmP1cn2jTh"
      }
    },
    {
      "cell_type": "code",
      "source": [
        "# Perbedaan pola penyewaan antara pengguna casual dan registered\n",
        "agg_casual_registered = day_df[['casual', 'registered']].mean().reset_index()\n",
        "agg_casual_registered.columns = ['Kategori Pengguna', 'Rata-rata Penyewaan']\n",
        "print(agg_casual_registered)"
      ],
      "metadata": {
        "colab": {
          "base_uri": "https://localhost:8080/"
        },
        "id": "oAbCwCmZ2nzr",
        "outputId": "4ac26351-9967-4f31-f721-ddc7fa98ed25"
      },
      "execution_count": 106,
      "outputs": [
        {
          "output_type": "stream",
          "name": "stdout",
          "text": [
            "  Kategori Pengguna  Rata-rata Penyewaan\n",
            "0            casual           732.010189\n",
            "1        registered          3608.756914\n"
          ]
        }
      ]
    },
    {
      "cell_type": "code",
      "source": [
        "# Agregasi jumlah penyewaan berdasarkan hari kerja dan libur\n",
        "agg_workingday = day_df.groupby('workingday')[['cnt']].mean()\n",
        "print(agg_workingday)"
      ],
      "metadata": {
        "colab": {
          "base_uri": "https://localhost:8080/"
        },
        "id": "4qNRY0KA73Lo",
        "outputId": "7556a5a9-6961-4d79-9470-aa83c78ca472"
      },
      "execution_count": 107,
      "outputs": [
        {
          "output_type": "stream",
          "name": "stdout",
          "text": [
            "                    cnt\n",
            "workingday             \n",
            "0           3713.079787\n",
            "1           4577.250501\n"
          ]
        }
      ]
    },
    {
      "cell_type": "markdown",
      "source": [
        "**Insight:**\n",
        "\n",
        "- Pengguna registered memiliki jumlah penyewaan yang lebih tinggi dibandingkan casual.\n",
        "- Hari kerja menunjukkan jumlah penyewaan lebih tinggi dibandingkan hari libur."
      ],
      "metadata": {
        "id": "th_Lzl2Fkj9O"
      }
    },
    {
      "cell_type": "markdown",
      "source": [],
      "metadata": {
        "id": "0O1Y_ZCc6swg"
      }
    },
    {
      "cell_type": "markdown",
      "metadata": {
        "id": "zsyZjqak8DC2"
      },
      "source": [
        "## Visualization & Explanatory Analysis\n",
        "\n",
        "---\n",
        "\n"
      ]
    },
    {
      "cell_type": "markdown",
      "metadata": {
        "id": "HZxOiQ6n8DC2"
      },
      "source": [
        "### Pertanyaan 1: Bagaimana Perbedaan Pola Penyewaan Sepeda antara Pengguna Casual dan Registered?"
      ]
    },
    {
      "cell_type": "markdown",
      "source": [
        "#### Bar Chart Penyewaan Casual vs. Registered"
      ],
      "metadata": {
        "id": "aJaGFODfFNP4"
      }
    },
    {
      "cell_type": "code",
      "execution_count": 108,
      "metadata": {
        "id": "1swJUdAD8DC2",
        "colab": {
          "base_uri": "https://localhost:8080/",
          "height": 0
        },
        "outputId": "c71e8ec4-cbc0-40c9-9eb5-1d0535763ab8"
      },
      "outputs": [
        {
          "output_type": "stream",
          "name": "stderr",
          "text": [
            "<ipython-input-108-0850e6fe816b>:2: FutureWarning: \n",
            "\n",
            "Passing `palette` without assigning `hue` is deprecated and will be removed in v0.14.0. Assign the `x` variable to `hue` and set `legend=False` for the same effect.\n",
            "\n",
            "  sns.barplot(x='Kategori Pengguna', y='Rata-rata Penyewaan', data=agg_casual_registered, palette='coolwarm')\n"
          ]
        },
        {
          "output_type": "display_data",
          "data": {
            "text/plain": [
              "<Figure size 800x500 with 1 Axes>"
            ],
            "image/png": "[encoded data removed]"
          },
          "metadata": {}
        }
      ],
      "source": [
        "plt.figure(figsize=(8, 5))\n",
        "sns.barplot(x='Kategori Pengguna', y='Rata-rata Penyewaan', data=agg_casual_registered, palette='coolwarm')\n",
        "plt.title(\"Rata-rata Penyewaan Casual vs Registered\")\n",
        "plt.xlabel(\"Kategori Pengguna\")\n",
        "plt.ylabel(\"Rata-rata Penyewaan\")\n",
        "plt.show()"
      ]
    },
    {
      "cell_type": "markdown",
      "metadata": {
        "id": "DgHI7CiU8DC2"
      },
      "source": [
        "### Pertanyaan 2: Bagaimana Dampak Hari Kerja dan Libur Terhadap Penyewaan Sepeda?"
      ]
    },
    {
      "cell_type": "markdown",
      "source": [
        "#### Bar Chart Penyewaan Berdasarkan Hari Kerja dan Libur"
      ],
      "metadata": {
        "id": "sALLgi3gFWsP"
      }
    },
    {
      "cell_type": "code",
      "execution_count": 109,
      "metadata": {
        "id": "Go0lCsvO8DC2",
        "colab": {
          "base_uri": "https://localhost:8080/",
          "height": 574
        },
        "outputId": "2f48b7be-f418-4c96-c5cb-065fa339d5da"
      },
      "outputs": [
        {
          "output_type": "stream",
          "name": "stderr",
          "text": [
            "<ipython-input-109-52e24f2aa157>:2: FutureWarning: \n",
            "\n",
            "Passing `palette` without assigning `hue` is deprecated and will be removed in v0.14.0. Assign the `x` variable to `hue` and set `legend=False` for the same effect.\n",
            "\n",
            "  sns.barplot(x=agg_workingday.index, y=agg_workingday['cnt'], palette='coolwarm')\n"
          ]
        },
        {
          "output_type": "display_data",
          "data": {
            "text/plain": [
              "<Figure size 800x500 with 1 Axes>"
            ],
            "image/png": "[encoded data removed]"
          },
          "metadata": {}
        }
      ],
      "source": [
        "plt.figure(figsize=(8, 5))\n",
        "sns.barplot(x=agg_workingday.index, y=agg_workingday['cnt'], palette='coolwarm')\n",
        "plt.title(\"Rata-rata Penyewaan Sepeda pada Hari Kerja vs Hari Libur\")\n",
        "plt.xlabel(\"Jenis Hari\")\n",
        "plt.ylabel(\"Rata-rata Penyewaan\")\n",
        "plt.xticks([0, 1], ['Hari Libur', 'Hari Kerja'])\n",
        "plt.show()"
      ]
    },
    {
      "cell_type": "markdown",
      "source": [
        "#### Tren Penyewaan per Bulan untuk Hari Kerja vs. Hari Libur"
      ],
      "metadata": {
        "id": "CZJlIBIlLj95"
      }
    },
    {
      "cell_type": "code",
      "source": [
        "plt.figure(figsize=(12, 6))\n",
        "\n",
        "# Plot untuk Hari Kerja\n",
        "sns.lineplot(data=day_df[day_df['workingday'] == 1], x='mnth', y='cnt', label='Hari Kerja', color='red', marker='o')\n",
        "\n",
        "# Plot untuk Hari Libur\n",
        "sns.lineplot(data=day_df[day_df['workingday'] == 0], x='mnth', y='cnt', label='Hari Libur', color='blue', marker='o')\n",
        "\n",
        "plt.title(\"Tren Penyewaan per Bulan: Hari Kerja vs Hari Libur\")\n",
        "plt.xlabel(\"Bulan\")\n",
        "plt.ylabel(\"Jumlah Penyewaan\")\n",
        "plt.xticks(ticks=range(12), labels=[\"Jan\", \"Feb\", \"Mar\", \"Apr\", \"May\", \"Jun\", \"Jul\", \"Aug\", \"Sep\", \"Oct\", \"Nov\", \"Dec\"])\n",
        "plt.legend(title=\"Kategori Hari\")\n",
        "plt.show()"
      ],
      "metadata": {
        "colab": {
          "base_uri": "https://localhost:8080/",
          "height": 564
        },
        "id": "u_rMqDNBLlXd",
        "outputId": "5a561770-6e24-41af-edfb-7cec224e8139"
      },
      "execution_count": 110,
      "outputs": [
        {
          "output_type": "display_data",
          "data": {
            "text/plain": [
              "<Figure size 1200x600 with 1 Axes>"
            ],
            "image/png": "[encoded data removed]"
          },
          "metadata": {}
        }
      ]
    },
    {
      "cell_type": "markdown",
      "source": [
        "**Insight:**\n",
        "- Pengguna registered cenderung memiliki jumlah penyewaan yang lebih stabil dan lebih tinggi dibandingkan dengan pengguna casual yang memiliki variasi lebih besar\n",
        "- Hari kerja memiliki rata-rata penyewaan yang lebih tinggi dibandingkan dengan hari libur, yang menunjukkan bahwa sepeda lebih banyak digunakan untuk keperluan rutin seperti pergi bekerja\n",
        "- Penyewaan sepeda lebih tinggi pada hari kerja selama bulan-bulan tertentu (misalnya musim semi dan gugur), sementara hari libur menunjukkan fluktuasi yang lebih besar"
      ],
      "metadata": {
        "id": "_0-36BDLklRg"
      }
    },
    {
      "cell_type": "markdown",
      "source": [
        "## Analisis Lanjutan (Opsional)"
      ],
      "metadata": {
        "id": "9y4VUsmcYNZ5"
      }
    },
    {
      "cell_type": "markdown",
      "source": [
        "### Clustering dengan Metode Manual Grouping\n"
      ],
      "metadata": {
        "id": "YzZR-tlDNtYq"
      }
    },
    {
      "cell_type": "markdown",
      "source": [
        "Penyewaan berdasarkan kategori suhu"
      ],
      "metadata": {
        "id": "igD18d7hN-wH"
      }
    },
    {
      "cell_type": "code",
      "source": [
        "# Menentukan kriteria untuk pengelompokan manual berdasarkan jumlah penyewaan ('cnt')\n",
        "bins = [0, 2000, 5000, 8000]  # Rentang jumlah penyewaan\n",
        "labels = ['Rendah', 'Sedang', 'Tinggi']\n",
        "day_df['pengelompokan'] = pd.cut(day_df['cnt'], bins=bins, labels=labels)"
      ],
      "metadata": {
        "id": "iWhnzsJGYUCO"
      },
      "execution_count": 111,
      "outputs": []
    },
    {
      "cell_type": "code",
      "source": [
        "# Menampilkan Hasil\n",
        "print(day_df[['cnt', 'pengelompokan']].head())"
      ],
      "metadata": {
        "colab": {
          "base_uri": "https://localhost:8080/"
        },
        "id": "XurlaJ_LOwlt",
        "outputId": "d2febe77-2506-49e1-b379-ef5e4a5236e6"
      },
      "execution_count": 112,
      "outputs": [
        {
          "output_type": "stream",
          "name": "stdout",
          "text": [
            "    cnt pengelompokan\n",
            "0   985        Rendah\n",
            "1   801        Rendah\n",
            "2  1349        Rendah\n",
            "3  1562        Rendah\n",
            "4  1600        Rendah\n"
          ]
        }
      ]
    },
    {
      "cell_type": "markdown",
      "source": [
        "#### Visualisasi"
      ],
      "metadata": {
        "id": "ZW-EnMLdO1YZ"
      }
    },
    {
      "cell_type": "code",
      "source": [
        "plt.figure(figsize=(8, 6))\n",
        "sns.countplot(data=day_df, x='pengelompokan', palette='coolwarm')\n",
        "plt.title(\"Distribusi Penyewaan Sepeda Berdasarkan Kelompok Jumlah Penyewaan\")\n",
        "plt.xlabel(\"Kelompok Penyewaan\")\n",
        "plt.ylabel(\"Jumlah Penyewaan\")\n",
        "plt.show()"
      ],
      "metadata": {
        "colab": {
          "base_uri": "https://localhost:8080/",
          "height": 651
        },
        "id": "g0hmH-_tO93H",
        "outputId": "b7e69cde-9fa0-4b47-ede4-693b3b861ddf"
      },
      "execution_count": 113,
      "outputs": [
        {
          "output_type": "stream",
          "name": "stderr",
          "text": [
            "<ipython-input-113-5e36e649f4e5>:2: FutureWarning: \n",
            "\n",
            "Passing `palette` without assigning `hue` is deprecated and will be removed in v0.14.0. Assign the `x` variable to `hue` and set `legend=False` for the same effect.\n",
            "\n",
            "  sns.countplot(data=day_df, x='pengelompokan', palette='coolwarm')\n"
          ]
        },
        {
          "output_type": "display_data",
          "data": {
            "text/plain": [
              "<Figure size 800x600 with 1 Axes>"
            ],
            "image/png": "[encoded data removed]"
          },
          "metadata": {}
        }
      ]
    },
    {
      "cell_type": "markdown",
      "source": [
        "**Insight**\n",
        "- Kelompok \"Tinggi\" menunjukkan bahwa ada periode atau kondisi di mana penyewaan sepeda sangat tinggi.\n",
        "- Kelompok \"Rendah\" menunjukkan periode dengan penyewaan yang lebih sedikit, mungkin karena cuaca buruk atau hari kerja.\n",
        "- Kelompok \"Sedang\" menggambarkan kondisi normal atau rata-rata"
      ],
      "metadata": {
        "id": "G3cvlujBQVUF"
      }
    },
    {
      "cell_type": "markdown",
      "metadata": {
        "id": "_WeHlCeX8DC2"
      },
      "source": [
        "## Conclusion"
      ]
    },
    {
      "cell_type": "markdown",
      "metadata": {
        "id": "ZTcyR48Y8DC2"
      },
      "source": [
        "1. Perbandingan Pengguna Casual vs. Registered\n",
        "\n",
        "- Pengguna registered memiliki jumlah penyewaan yang jauh lebih tinggi dibandingkan casual.\n",
        "- Nilai rata-rata tertinggi ditemukan pada pengguna registered, yang menunjukkan bahwa mereka lebih sering menggunakan sepeda secara rutin.\n",
        "- Pengguna casual lebih fluktuatif, kemungkinan besar dipengaruhi oleh faktor cuaca atau musim liburan.\n",
        "\n",
        "\n",
        "2. Dampak Hari Kerja dan Hari Libur\n",
        "\n",
        "- Hari kerja memiliki jumlah penyewaan yang lebih tinggi dibandingkan hari libur.\n",
        "- Penyewaan tertinggi biasanya terjadi selama musim semi dan gugur, yang kemungkinan karena cuaca yang lebih nyaman untuk bersepeda.\n",
        "- Pada hari libur, jumlah penyewaan lebih tidak menentu, menunjukkan bahwa penggunaan sepeda lebih terkait dengan aktivitas rekreasi dibandingkan transportasi rutin."
      ]
    },
    {
      "cell_type": "markdown",
      "source": [
        "Eksport data"
      ],
      "metadata": {
        "id": "LJD244J3LaJB"
      }
    },
    {
      "cell_type": "code",
      "source": [
        "day_df.to_csv('processed_sepeda_dashboard.csv', index=False)"
      ],
      "metadata": {
        "id": "GGAsvt-hUPW_"
      },
      "execution_count": 114,
      "outputs": []
    }
  ],
  "metadata": {
    "kernelspec": {
      "display_name": "Python 3",
      "language": "python",
      "name": "python3"
    },
    "language_info": {
      "name": "python",
      "version": "3.8.0 (tags/v3.8.0:fa919fd, Oct 14 2019, 19:21:23) [MSC v.1916 32 bit (Intel)]"
    },
    "orig_nbformat": 4,
    "vscode": {
      "interpreter": {
        "hash": "972b3bf27e332e87b5379f2791f6ef9dfc79c71018c370b0d7423235e20fe4d7"
      }
    },
    "colab": {
      "provenance": [],
      "collapsed_sections": [
        "H-z4QGlO8DC1",
        "sXU2GBYu8DC1",
        "FHSiqaZp8DC1",
        "EhN5R4hr8DC1"
      ],
      "toc_visible": true
    }
  },
  "nbformat": 4,
  "nbformat_minor": 0
}